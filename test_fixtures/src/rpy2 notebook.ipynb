{
 "cells": [
  {
   "cell_type": "code",
   "execution_count": 1,
   "id": "8ed55ed9",
   "metadata": {},
   "outputs": [],
   "source": [
    "from rpy2.robjects.packages import importr\n",
    "\n",
    "cffdrs = importr('cffdrs')\n"
   ]
  },
  {
   "cell_type": "code",
   "execution_count": 24,
   "id": "69d70c83",
   "metadata": {},
   "outputs": [
    {
     "name": "stdout",
     "output_type": "stream",
     "text": [
      "FUELTYPE\n",
      "ISI\n",
      "BUI\n",
      "FMC\n",
      "SFC\n",
      "CBH\n",
      "ROS\n",
      "CFB\n",
      "RSC\n",
      "option\n",
      "['C4', 58.83087184572333, 95.10662658419604, 75.34751250593858, 87.27197349985346, 4.717150314793365, 8238.553513904477, 56.63210947613763, 37.66793060563002]\n"
     ]
    },
    {
     "data": {
      "text/html": [
       "\n",
       "        <span>FloatVector with 1 elements.</span>\n",
       "        <table>\n",
       "        <tbody>\n",
       "          <tr>\n",
       "          \n",
       "            <td>\n",
       "            0.999142\n",
       "            </td>\n",
       "          \n",
       "          </tr>\n",
       "        </tbody>\n",
       "        </table>\n",
       "        "
      ],
      "text/plain": [
       "<rpy2.robjects.vectors.FloatVector object at 0x7f42637695c0> [RTYPES.REALSXP]\n",
       "R classes: ('numeric',)\n",
       "[0.999142]"
      ]
     },
     "execution_count": 24,
     "metadata": {},
     "output_type": "execute_result"
    }
   ],
   "source": [
    "import json\n",
    "import numpy as np\n",
    "\n",
    "with open('../../tests/C6calc.json') as f:\n",
    "    data = json.load(f)\n",
    "values = []\n",
    "for k,v in data[0][\"input\"].items():\n",
    "    print(k)\n",
    "    if not v is None:\n",
    "        values.append(v[0])\n",
    "print(values)\n",
    "    \n",
    "                \n",
    "cffdrs._C6calc(*values)"
   ]
  },
  {
   "cell_type": "code",
   "execution_count": 40,
   "id": "25746c5b",
   "metadata": {},
   "outputs": [
    {
     "name": "stdout",
     "output_type": "stream",
     "text": [
      "     [,1] [,2] [,3] [,4] [,5]\n",
      "[1,]    0    5    0    5    0\n",
      "[2,]    1    6    1    6    1\n",
      "[3,]    2    7    2    7    2\n",
      "[4,]    3    8    3    8    3\n",
      "[5,]    4    9    4    9    4\n",
      "\n",
      "     [,1] [,2] [,3] [,4] [,5]\n",
      "[1,] \"C1\" \"C2\" \"C3\" \"C4\" \"C1\"\n",
      "[2,] \"C2\" \"C3\" \"C4\" \"C1\" \"C2\"\n",
      "[3,] \"C3\" \"C4\" \"C1\" \"C2\" \"C3\"\n",
      "[4,] \"C4\" \"C1\" \"C2\" \"C3\" \"C4\"\n",
      "[5,] \"C1\" \"C2\" \"C3\" \"C4\" \"C1\"\n",
      "\n",
      " [1] 1.000000e+00 2.376398e-08 9.490490e-04 2.872432e-02 2.882753e-01\n",
      " [6] 3.732481e-02 1.147099e-01 2.405483e-01 5.569186e-01 1.821590e-01\n",
      "[11] 1.000000e+00 1.690114e-05 7.723938e-02 3.461926e-03 3.459576e-02\n",
      "[16] 1.271501e-01 4.471607e-01 1.034129e-01 2.088767e-01 3.427897e-01\n",
      "[21] 1.000000e+00 2.376398e-08 9.490490e-04 2.872432e-02 2.882753e-01\n",
      "\n"
     ]
    }
   ],
   "source": [
    "# I don't know much about R - but seems like passing in a matrix you just end up\n",
    "# getting a vector back. Good to know.\n",
    "import numpy as np\n",
    "from rpy2.robjects.vectors import FloatVector, StrVector\n",
    "from rpy2 import robjects\n",
    "\n",
    "BUI = robjects.r.matrix(robjects.FloatVector(range(10)), nrow=5, ncol=5)\n",
    "FUEL_TYPE = robjects.r.matrix(robjects.StrVector(['C1','C2', 'C3', 'C4']), nrow=5, ncol=5)\n",
    "print(BUI)\n",
    "print(FUEL_TYPE)\n",
    "\n",
    "a = cffdrs._BEcalc(FUEL_TYPE, BUI)\n",
    "print(a)\n"
   ]
  },
  {
   "cell_type": "code",
   "execution_count": null,
   "id": "82b2079f",
   "metadata": {},
   "outputs": [],
   "source": []
  },
  {
   "cell_type": "code",
   "execution_count": 22,
   "id": "eaa804a3",
   "metadata": {},
   "outputs": [
    {
     "name": "stdout",
     "output_type": "stream",
     "text": [
      "[['C1' 'C2']\n",
      " ['C3' 'C4']]\n",
      "[[1. 2.]\n",
      " [3. 4.]]\n"
     ]
    },
    {
     "ename": "NotImplementedError",
     "evalue": "Conversion 'py2rpy' not defined for objects of type '<class 'numpy.ndarray'>'",
     "output_type": "error",
     "traceback": [
      "\u001b[0;31m---------------------------------------------------------------------------\u001b[0m",
      "\u001b[0;31mNotImplementedError\u001b[0m                       Traceback (most recent call last)",
      "Input \u001b[0;32mIn [22]\u001b[0m, in \u001b[0;36m<cell line: 20>\u001b[0;34m()\u001b[0m\n\u001b[1;32m     17\u001b[0m \u001b[38;5;28mprint\u001b[39m(FUEL_TYPE)\n\u001b[1;32m     18\u001b[0m \u001b[38;5;28mprint\u001b[39m(BUI)\n\u001b[0;32m---> 20\u001b[0m \u001b[43mcffdrs\u001b[49m\u001b[38;5;241;43m.\u001b[39;49m\u001b[43m_BEcalc\u001b[49m\u001b[43m(\u001b[49m\u001b[43mFUEL_TYPE\u001b[49m\u001b[43m,\u001b[49m\u001b[43m \u001b[49m\u001b[43mBUI\u001b[49m\u001b[43m)\u001b[49m\n",
      "File \u001b[0;32m~/.cache/pypoetry/virtualenvs/pycffdrs-test-gen-uxZeOgYN-py3.8/lib/python3.8/site-packages/rpy2/robjects/functions.py:201\u001b[0m, in \u001b[0;36mSignatureTranslatedFunction.__call__\u001b[0;34m(self, *args, **kwargs)\u001b[0m\n\u001b[1;32m    199\u001b[0m         v \u001b[38;5;241m=\u001b[39m kwargs\u001b[38;5;241m.\u001b[39mpop(k)\n\u001b[1;32m    200\u001b[0m         kwargs[r_k] \u001b[38;5;241m=\u001b[39m v\n\u001b[0;32m--> 201\u001b[0m \u001b[38;5;28;01mreturn\u001b[39;00m (\u001b[38;5;28;43msuper\u001b[39;49m\u001b[43m(\u001b[49m\u001b[43mSignatureTranslatedFunction\u001b[49m\u001b[43m,\u001b[49m\u001b[43m \u001b[49m\u001b[38;5;28;43mself\u001b[39;49m\u001b[43m)\u001b[49m\n\u001b[1;32m    202\u001b[0m \u001b[43m        \u001b[49m\u001b[38;5;241;43m.\u001b[39;49m\u001b[38;5;21;43m__call__\u001b[39;49m\u001b[43m(\u001b[49m\u001b[38;5;241;43m*\u001b[39;49m\u001b[43margs\u001b[49m\u001b[43m,\u001b[49m\u001b[43m \u001b[49m\u001b[38;5;241;43m*\u001b[39;49m\u001b[38;5;241;43m*\u001b[39;49m\u001b[43mkwargs\u001b[49m\u001b[43m)\u001b[49m)\n",
      "File \u001b[0;32m~/.cache/pypoetry/virtualenvs/pycffdrs-test-gen-uxZeOgYN-py3.8/lib/python3.8/site-packages/rpy2/robjects/functions.py:116\u001b[0m, in \u001b[0;36mFunction.__call__\u001b[0;34m(self, *args, **kwargs)\u001b[0m\n\u001b[1;32m    115\u001b[0m \u001b[38;5;28;01mdef\u001b[39;00m \u001b[38;5;21m__call__\u001b[39m(\u001b[38;5;28mself\u001b[39m, \u001b[38;5;241m*\u001b[39margs, \u001b[38;5;241m*\u001b[39m\u001b[38;5;241m*\u001b[39mkwargs):\n\u001b[0;32m--> 116\u001b[0m     new_args \u001b[38;5;241m=\u001b[39m [conversion\u001b[38;5;241m.\u001b[39mpy2rpy(a) \u001b[38;5;28;01mfor\u001b[39;00m a \u001b[38;5;129;01min\u001b[39;00m args]\n\u001b[1;32m    117\u001b[0m     new_kwargs \u001b[38;5;241m=\u001b[39m {}\n\u001b[1;32m    118\u001b[0m     \u001b[38;5;28;01mfor\u001b[39;00m k, v \u001b[38;5;129;01min\u001b[39;00m kwargs\u001b[38;5;241m.\u001b[39mitems():\n\u001b[1;32m    119\u001b[0m         \u001b[38;5;66;03m# TODO: shouldn't this be handled by the conversion itself ?\u001b[39;00m\n",
      "File \u001b[0;32m~/.cache/pypoetry/virtualenvs/pycffdrs-test-gen-uxZeOgYN-py3.8/lib/python3.8/site-packages/rpy2/robjects/functions.py:116\u001b[0m, in \u001b[0;36m<listcomp>\u001b[0;34m(.0)\u001b[0m\n\u001b[1;32m    115\u001b[0m \u001b[38;5;28;01mdef\u001b[39;00m \u001b[38;5;21m__call__\u001b[39m(\u001b[38;5;28mself\u001b[39m, \u001b[38;5;241m*\u001b[39margs, \u001b[38;5;241m*\u001b[39m\u001b[38;5;241m*\u001b[39mkwargs):\n\u001b[0;32m--> 116\u001b[0m     new_args \u001b[38;5;241m=\u001b[39m [\u001b[43mconversion\u001b[49m\u001b[38;5;241;43m.\u001b[39;49m\u001b[43mpy2rpy\u001b[49m\u001b[43m(\u001b[49m\u001b[43ma\u001b[49m\u001b[43m)\u001b[49m \u001b[38;5;28;01mfor\u001b[39;00m a \u001b[38;5;129;01min\u001b[39;00m args]\n\u001b[1;32m    117\u001b[0m     new_kwargs \u001b[38;5;241m=\u001b[39m {}\n\u001b[1;32m    118\u001b[0m     \u001b[38;5;28;01mfor\u001b[39;00m k, v \u001b[38;5;129;01min\u001b[39;00m kwargs\u001b[38;5;241m.\u001b[39mitems():\n\u001b[1;32m    119\u001b[0m         \u001b[38;5;66;03m# TODO: shouldn't this be handled by the conversion itself ?\u001b[39;00m\n",
      "File \u001b[0;32m/usr/lib/python3.8/functools.py:875\u001b[0m, in \u001b[0;36msingledispatch.<locals>.wrapper\u001b[0;34m(*args, **kw)\u001b[0m\n\u001b[1;32m    871\u001b[0m \u001b[38;5;28;01mif\u001b[39;00m \u001b[38;5;129;01mnot\u001b[39;00m args:\n\u001b[1;32m    872\u001b[0m     \u001b[38;5;28;01mraise\u001b[39;00m \u001b[38;5;167;01mTypeError\u001b[39;00m(\u001b[38;5;124mf\u001b[39m\u001b[38;5;124m'\u001b[39m\u001b[38;5;132;01m{\u001b[39;00mfuncname\u001b[38;5;132;01m}\u001b[39;00m\u001b[38;5;124m requires at least \u001b[39m\u001b[38;5;124m'\u001b[39m\n\u001b[1;32m    873\u001b[0m                     \u001b[38;5;124m'\u001b[39m\u001b[38;5;124m1 positional argument\u001b[39m\u001b[38;5;124m'\u001b[39m)\n\u001b[0;32m--> 875\u001b[0m \u001b[38;5;28;01mreturn\u001b[39;00m \u001b[43mdispatch\u001b[49m\u001b[43m(\u001b[49m\u001b[43margs\u001b[49m\u001b[43m[\u001b[49m\u001b[38;5;241;43m0\u001b[39;49m\u001b[43m]\u001b[49m\u001b[38;5;241;43m.\u001b[39;49m\u001b[38;5;18;43m__class__\u001b[39;49m\u001b[43m)\u001b[49m\u001b[43m(\u001b[49m\u001b[38;5;241;43m*\u001b[39;49m\u001b[43margs\u001b[49m\u001b[43m,\u001b[49m\u001b[43m \u001b[49m\u001b[38;5;241;43m*\u001b[39;49m\u001b[38;5;241;43m*\u001b[39;49m\u001b[43mkw\u001b[49m\u001b[43m)\u001b[49m\n",
      "File \u001b[0;32m~/.cache/pypoetry/virtualenvs/pycffdrs-test-gen-uxZeOgYN-py3.8/lib/python3.8/site-packages/rpy2/robjects/conversion.py:219\u001b[0m, in \u001b[0;36m_py2rpy\u001b[0;34m(obj)\u001b[0m\n\u001b[1;32m    217\u001b[0m \u001b[38;5;28;01mif\u001b[39;00m \u001b[38;5;28misinstance\u001b[39m(obj, _rinterface_capi\u001b[38;5;241m.\u001b[39mSupportsSEXP):\n\u001b[1;32m    218\u001b[0m     \u001b[38;5;28;01mreturn\u001b[39;00m obj\n\u001b[0;32m--> 219\u001b[0m \u001b[38;5;28;01mraise\u001b[39;00m \u001b[38;5;167;01mNotImplementedError\u001b[39;00m(\n\u001b[1;32m    220\u001b[0m     \u001b[38;5;124m\"\u001b[39m\u001b[38;5;124mConversion \u001b[39m\u001b[38;5;124m'\u001b[39m\u001b[38;5;124mpy2rpy\u001b[39m\u001b[38;5;124m'\u001b[39m\u001b[38;5;124m not defined for objects of type \u001b[39m\u001b[38;5;124m'\u001b[39m\u001b[38;5;132;01m%s\u001b[39;00m\u001b[38;5;124m'\u001b[39m\u001b[38;5;124m\"\u001b[39m \u001b[38;5;241m%\u001b[39m\n\u001b[1;32m    221\u001b[0m     \u001b[38;5;28mstr\u001b[39m(\u001b[38;5;28mtype\u001b[39m(obj))\n\u001b[1;32m    222\u001b[0m )\n",
      "\u001b[0;31mNotImplementedError\u001b[0m: Conversion 'py2rpy' not defined for objects of type '<class 'numpy.ndarray'>'"
     ]
    }
   ],
   "source": [
    "import numpy as np\n",
    "from numpy import FloatVector, StringVector\n",
    "\n",
    "nx, ny = (2,2)\n",
    "\n",
    "FUEL_TYPE = np.empty((nx,ny), dtype='object')\n",
    "FUEL_TYPE[0][0] = 'C1'\n",
    "FUEL_TYPE[0][1] = \"C2\"\n",
    "FUEL_TYPE[1][0] = \"C3\"\n",
    "FUEL_TYPE[1][1] = \"C4\"\n",
    "\n",
    "BUI = np.empty((nx,ny))\n",
    "BUI[0][0] = 1\n",
    "BUI[0][1] = 2\n",
    "BUI[1][0] = 3\n",
    "BUI[1][1] = 4\n",
    "\n",
    "print(FUEL_TYPE)\n",
    "print(BUI)\n",
    "\n",
    "cffdrs._BEcalc(FUEL_TYPE, BUI)\n",
    "\n",
    "\n",
    "\n",
    "    "
   ]
  },
  {
   "cell_type": "code",
   "execution_count": 49,
   "id": "f71e1a20",
   "metadata": {},
   "outputs": [
    {
     "name": "stdout",
     "output_type": "stream",
     "text": [
      "1\n",
      "(1, 2, 3)\n",
      "3\n",
      "{'a': 'moo'}\n"
     ]
    }
   ],
   "source": [
    "def thing(cat, *args, **kwargs):\n",
    "    print(cat)\n",
    "    print(args)\n",
    "    print(len(args))\n",
    "    print(kwargs)\n",
    "\n",
    "    \n",
    "a = (1,2,3,)\n",
    "thing(1, *a, a='moo')"
   ]
  },
  {
   "cell_type": "code",
   "execution_count": null,
   "id": "3e9de1bc",
   "metadata": {},
   "outputs": [],
   "source": []
  }
 ],
 "metadata": {
  "kernelspec": {
   "display_name": "Python 3",
   "language": "python",
   "name": "python3"
  },
  "language_info": {
   "codemirror_mode": {
    "name": "ipython",
    "version": 3
   },
   "file_extension": ".py",
   "mimetype": "text/x-python",
   "name": "python",
   "nbconvert_exporter": "python",
   "pygments_lexer": "ipython3",
   "version": "3.8.10"
  }
 },
 "nbformat": 4,
 "nbformat_minor": 5
}
